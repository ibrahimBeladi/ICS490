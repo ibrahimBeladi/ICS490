{
 "cells": [
  {
   "cell_type": "code",
   "execution_count": 79,
   "metadata": {},
   "outputs": [],
   "source": [
    "'''    imports    '''\n",
    "# -*- coding: utf-8 -*-\n",
    "import numpy as np\n",
    "import sklearn\n",
    "\n",
    "from pandas import read_csv\n",
    "\n",
    "from sklearn.feature_extraction.text import TfidfVectorizer\n",
    "from sklearn.metrics import classification_report\n",
    "from sklearn.model_selection import train_test_split\n",
    "from sklearn.pipeline import Pipeline\n",
    "\n",
    "from sklearn.naive_bayes import MultinomialNB\n",
    "from sklearn.svm import LinearSVC\n",
    "from sklearn.ensemble import RandomForestClassifier\n",
    "\n",
    "from sklearn.metrics import classification_report"
   ]
  },
  {
   "cell_type": "code",
   "execution_count": 80,
   "metadata": {},
   "outputs": [],
   "source": [
    "'''    functions    '''\n",
    "def printEach(list):\n",
    "    for item in list:\n",
    "        print(item)"
   ]
  },
  {
   "cell_type": "code",
   "execution_count": 89,
   "metadata": {},
   "outputs": [
    {
     "name": "stdout",
     "output_type": "stream",
     "text": [
      " #السينما_في_السعودية  الآف #فرص_العمل الجديدة .. تعرف عليها - #السعودية https://t.co/VfEUzqC9Ta\n"
     ]
    }
   ],
   "source": [
    "'''    main    '''\n",
    "filename = 'corpusCinema.csv'\n",
    "\n",
    "dataframe = read_csv(filename, engine='python', encoding=\"UTF-8\")\n",
    "array = dataframe.values\n",
    "\n",
    "X = array[:, 0]# Tweet\n",
    "Y = array[:, 1]# Class\n",
    "\n",
    "for n,i in enumerate(Y):\n",
    "    if i==1:\n",
    "        Y[n]=\"positive\"\n",
    "    elif i==0:\n",
    "        Y[n]=\"neutral\"\n",
    "    else:\n",
    "        Y[n]=\"negative\"\n",
    "\n",
    "X_train, X_test, y_train, y_test = train_test_split(X, Y, test_size=0.1, random_state=7)\n",
    "\n",
    "print(X[0])\n",
    "#printEach(features)    \n"
   ]
  },
  {
   "cell_type": "code",
   "execution_count": 93,
   "metadata": {},
   "outputs": [
    {
     "name": "stdout",
     "output_type": "stream",
     "text": [
      "             precision    recall  f1-score   support\n",
      "\n",
      "   negative       0.69      0.43      0.53        68\n",
      "    neutral       0.79      0.88      0.83       326\n",
      "   positive       0.71      0.64      0.67       139\n",
      "\n",
      "avg / total       0.75      0.76      0.75       533\n",
      "\n",
      "             precision    recall  f1-score   support\n",
      "\n",
      "   negative       1.00      0.10      0.19        68\n",
      "    neutral       0.67      0.99      0.80       326\n",
      "   positive       0.94      0.32      0.47       139\n",
      "\n",
      "avg / total       0.78      0.70      0.64       533\n",
      "\n",
      "             precision    recall  f1-score   support\n",
      "\n",
      "   negative       0.75      0.31      0.44        68\n",
      "    neutral       0.75      0.90      0.82       326\n",
      "   positive       0.65      0.52      0.58       139\n",
      "\n",
      "avg / total       0.72      0.73      0.71       533\n",
      "\n"
     ]
    }
   ],
   "source": [
    "pipeline_1 = Pipeline([('vect', CountVectorizer()),('tfidf', TfidfTransformer()),('clf', LinearSVC())])\n",
    "pipeline_2 = Pipeline([('vect', CountVectorizer()),('tfidf', TfidfTransformer()),('clf', MultinomialNB())])\n",
    "pipeline_3 = Pipeline([('vect', CountVectorizer()),('tfidf', TfidfTransformer()),('clf', RandomForestClassifier())])\n",
    "\n",
    "pipelines = [pipeline_1, pipeline_2, pipeline_3]\n",
    "parameters = {\n",
    "    'vect__max_df': (0.5, 0.75, 1.0),\n",
    "    #'vect__max_features': (None, 5000, 10000, 50000),\n",
    "    'vect__ngram_range': ((1, 1), (1, 2)),  # unigrams or bigrams\n",
    "    #'tfidf__use_idf': (True, False),\n",
    "    #'tfidf__norm': ('l1', 'l2'),\n",
    "    'clf__alpha': (0.00001, 0.000001),\n",
    "    'clf__penalty': ('l2', 'elasticnet'),\n",
    "    #'clf__n_iter': (10, 50, 80),\n",
    "}\n",
    "\n",
    "\n",
    "for pipeline in pipelines:\n",
    "    grid_search = GridSearchCV(pipeline, parameters, n_jobs=-1, verbose=1)\n",
    "    pipeline.fit(X_train, y_train)\n",
    "    y_pred = pipeline.predict(X_test)\n",
    "    print(classification_report(y_test, y_pred))\n",
    "\n"
   ]
  },
  {
   "cell_type": "code",
   "execution_count": null,
   "metadata": {},
   "outputs": [],
   "source": []
  }
 ],
 "metadata": {
  "kernelspec": {
   "display_name": "Python 2",
   "language": "python",
   "name": "python2"
  },
  "language_info": {
   "codemirror_mode": {
    "name": "ipython",
    "version": 2
   },
   "file_extension": ".py",
   "mimetype": "text/x-python",
   "name": "python",
   "nbconvert_exporter": "python",
   "pygments_lexer": "ipython2",
   "version": "2.7.12"
  }
 },
 "nbformat": 4,
 "nbformat_minor": 2
}
