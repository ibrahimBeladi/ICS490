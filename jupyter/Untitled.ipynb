{
 "cells": [
  {
   "cell_type": "code",
   "execution_count": 168,
   "metadata": {},
   "outputs": [],
   "source": [
    "'''    imports    '''\n",
    "# -*- coding: utf-8 -*-\n",
    "\n",
    "import numpy as np\n",
    "import sklearn\n",
    "import csv\n",
    "import re\n",
    "\n",
    "from pandas import read_csv\n",
    "import pandas as pd\n",
    "\n",
    "from sklearn import decomposition\n",
    "from sklearn.feature_extraction.text import TfidfVectorizer, TfidfTransformer\n",
    "from sklearn.metrics import classification_report\n",
    "from sklearn.model_selection import train_test_split, GridSearchCV\n",
    "from sklearn.pipeline import Pipeline\n",
    "from sklearn.linear_model import LogisticRegression\n",
    "\n",
    "from sklearn.naive_bayes import MultinomialNB\n",
    "from sklearn.svm import SVC\n",
    "from sklearn.ensemble import RandomForestClassifier\n",
    "\n",
    "from sklearn.metrics import classification_report\n",
    "\n",
    "from sklearn.tree import DecisionTreeClassifier\n",
    "from sklearn.ensemble import VotingClassifier\n",
    "from sklearn import model_selection\n",
    "import time\n"
   ]
  },
  {
   "cell_type": "code",
   "execution_count": 175,
   "metadata": {},
   "outputs": [],
   "source": [
    "'''    functions    '''\n",
    "def printEach(list):\n",
    "    for item in list:\n",
    "        print(item)\n",
    "        \n",
    "def printBestParameter(grid_search):\n",
    "    best_parameters = grid_search.best_estimator_.get_params()\n",
    "    for param_name in sorted(parameters.keys()):\n",
    "        print(\"\\t%s: %r\" % (param_name, best_parameters[param_name]))\n",
    "\n",
    "def translateNumbers(x):\n",
    "    # translate indian numbers to arabic numbers\n",
    "    x = x.replace(u'\\u0660','0')\n",
    "    x = x.replace(u'\\u0661','1')\n",
    "    x = x.replace(u'\\u0662','2')\n",
    "    x = x.replace(u'\\u0663','3')\n",
    "    x = x.replace(u'\\u0664','4')\n",
    "    x = x.replace(u'\\u0665','5')\n",
    "    x = x.replace(u'\\u0666','6')\n",
    "    x = x.replace(u'\\u0667','7')\n",
    "    x = x.replace(u'\\u0668','8')\n",
    "    x = x.replace(u'\\u0669','9')\n",
    "    return x\n",
    "    \n",
    "def removePunc(x):    \n",
    "    # removes punctuation and arabic harakat\n",
    "    punc = \"\"\"!$%^&*()-=+.,:'\"<>/\\?\"\"\"\n",
    "    arabic_semicolon = u\"\\u061B\"\n",
    "    arabic_comma = u\"\\u060C\"\n",
    "    arabic_question = u\"\\u061F\"\n",
    "    arabia_fatha = u\"\\u064E\"\n",
    "    arabia_2fathas = u\"\\u064B\"\n",
    "    arabia_damma = u\"\\u064F\"\n",
    "    arabia_2dammas = u\"\\u064C\"\n",
    "    arabia_kasra = u\"\\u0650\"\n",
    "    arabia_2kasras = u\"\\u064D\"\n",
    "    arabic_sukun = u\"\\u0652\"\n",
    "    arabic_shadda = u\"\\u0651\"\n",
    "    punc += arabic_semicolon + arabic_comma + arabic_question + arabia_fatha + arabia_2fathas + arabia_damma + arabia_2dammas + arabia_kasra + arabia_2kasras + arabic_sukun + arabic_shadda\n",
    "    \n",
    "    for char in punc:\n",
    "        x = x.replace(char, \"\")\n",
    "        \n",
    "    return x\n",
    "\n",
    "def uniformArabic(x):\n",
    "    # uniform multiple characters to thier origrinal form\n",
    "    # Alifs -> Alif\n",
    "    x = x.replace(u'\\u0622',u'\\u0627')\n",
    "    x = x.replace(u'\\u0623',u'\\u0627')\n",
    "    x = x.replace(u'\\u0625',u'\\u0627')\n",
    "    # Taa marbotah -> haa\n",
    "    x = x.replace(u\"\\u0629\",u\"\\u0647\")\n",
    "    # Alif_maqsurah + Yaa_Hamzah -> Yaa\n",
    "    x = x.replace(u'\\u0649',u'\\u064A')\n",
    "    x = x.replace(u'\\u0626',u'\\u064A')\n",
    "    # Waw_hamzah -> waw\n",
    "    x = x.replace(u'\\u0624',u'\\u0648')\n",
    "    return x\n",
    "\n",
    "def reduceString(x, string):\n",
    "    # replaces two same consecutive characters with one\n",
    "    stringString = string+string\n",
    "    while stringString in x:\n",
    "        x = x.replace(stringString, string)\n",
    "    return x\n",
    "    \n",
    "def clean(x):\n",
    "    # cleans the tweet\n",
    "    x = translateNumbers(x)\n",
    "    \n",
    "    x = re.sub(\"(https|http)://t.co/([a-zA-Z0-9]){10}\",\" _LINK_ \",x) # Link\n",
    "    x = re.sub(\"[0-9]{10,}\",\" _NUMBER_ \",x) # Number\n",
    "    x = re.sub(\"@.*\\s\",\" _ACCOUNT_ \",x) # Account\n",
    "    \n",
    "    x = removePunc(x)\n",
    "    \n",
    "    x = uniformArabic(x)\n",
    "    \n",
    "    x = reduceString(x, ' ')\n",
    "    \n",
    "    # reduce arabic letters\n",
    "    arabic_letters = [u\"\\u0627\",u\"\\u0628\",u\"\\u062A\",u\"\\u062B\",u\"\\u062C\",u\"\\u062D\",u\"\\u062E\",u\"\\u062F\",u\"\\u0630\",u\"\\u0631\",u\"\\u0632\",u\"\\u0633\",u\"\\u0634\",u\"\\u0635\",u\"\\u0636\",u\"\\u0637\",u\"\\u0638\",u\"\\u0639\",u\"\\u063A\",u\"\\u0641\",u\"\\u0642\",u\"\\u0643\",u\"\\u0644\",u\"\\u0645\",u\"\\u0646\",u\"\\u0647\",u\"\\u0648\",u\"\\u064A\"]\n",
    "    for letter in arabic_letters:\n",
    "        x = reduceString(x, letter)\n",
    "    \n",
    "    # remove maddah\n",
    "    x = x.replace(u'\\u0640','')\n",
    "    \n",
    "    # al + la\n",
    "    x = reduceString(x, u'\\u0627\\u0644')\n",
    "    x = reduceString(x, u'\\u0644\\u0627')\n",
    "        \n",
    "    # english repeated letters\n",
    "    x = reduceString(x, \"a\")\n",
    "    x = reduceString(x, \"s\")\n",
    "    x = reduceString(x, \"h\")\n",
    "    x = reduceString(x, \"o\")\n",
    "    x = reduceString(x, \"y\")\n",
    "    \n",
    "    x = reduceString(x, \"_\")\n",
    "    \n",
    "    # replace the hashtag with cinema\n",
    "    x = re.sub(u\"\\u0627\\u0644\\u0633\\u064A\\u0646\\u0645\\u0627_\\u0641\\u064A_\\u0627\\u0644\\u0633\\u0639\\u0648\\u062F\\u064A\\u0647\",\" _cinema_ \",x) # Cinema\n",
    "    \n",
    "    return x\n",
    "    \n",
    "def cleanAll(X):\n",
    "    # perform clean on all elements\n",
    "    clean_x = []\n",
    "    for x in X:\n",
    "        clean_x.append(clean(x))\n",
    "    return clean_x\n",
    "\n",
    "def lenFeatures(X):\n",
    "    vectorizer = TfidfVectorizer()\n",
    "    vect = vectorizer.fit_transform(X)\n",
    "    print(\"There are \" + str(len(vectorizer.vocabulary_)) + \" features\")\n",
    "        \n",
    "def listFeatures(X):\n",
    "    # list the features of the tfidf vectorizer\n",
    "    vectorizer = TfidfVectorizer()\n",
    "    vect = vectorizer.fit_transform(X)\n",
    "    terms = vectorizer.get_feature_names()\n",
    "    \n",
    "    sums = vect.sum(axis=0)\n",
    "\n",
    "    data = []\n",
    "    for col, term in enumerate(terms):\n",
    "        data.append( (term, sums[0,col] ))\n",
    "\n",
    "    ranking = pd.DataFrame(data, columns=['term','rank'])\n",
    "    ranking = ranking.sort_values('rank',ascending=False)\n",
    "    \n",
    "    print(\"Highest scored terms:\")\n",
    "    for i in xrange(10):\n",
    "        print(str(1+i)+\": \"+ranking['term'].iloc[i])\n",
    "#     print(ranking)\n",
    "\n",
    "def doGridSearch(pipeline, parameters):\n",
    "    grid_search = GridSearchCV(pipeline, parameters, n_jobs=-1, verbose=1)\n",
    "    t0 = time.time()\n",
    "    grid_search.fit(X_train, y_train)\n",
    "    print(\"done in %0.3fs\" % (time.time() - t0))\n",
    "\n",
    "    print(\"Best score: %0.3f\" % grid_search.best_score_)\n",
    "    print(\"Best parameters set:\")\n",
    "\n",
    "    printBestParameter(grid_search)"
   ]
  },
  {
   "cell_type": "code",
   "execution_count": 171,
   "metadata": {},
   "outputs": [
    {
     "name": "stdout",
     "output_type": "stream",
     "text": [
      "There are 16393 features\n"
     ]
    }
   ],
   "source": [
    "'''    main    '''\n",
    "df = read_csv('corpusCinema.csv', engine='python', encoding=\"UTF-8\")\n",
    "# df = df[df['sentiment'] != 'spam'] # drop the spam\n",
    "array =  df.values\n",
    "\n",
    "X = array[:, 0] #Tweet\n",
    "Y = array[:, 1] #Sentiment\n",
    "\n",
    "for n,i in enumerate(Y):\n",
    "    if i==1:\n",
    "        Y[n]=\"Positive\"\n",
    "    elif i==0:\n",
    "        Y[n]=\"Neutral\"\n",
    "    elif i==-1:\n",
    "        Y[n]=\"Negative\"\n",
    "\n",
    "X = cleanAll(X)\n",
    "# print(X)\n",
    "# listFeatures(X)\n",
    "lenFeatures(X)\n",
    "    \n",
    "X_train, X_test, y_train, y_test = train_test_split(X, Y, test_size=0.1, random_state=7)"
   ]
  },
  {
   "cell_type": "code",
   "execution_count": 178,
   "metadata": {},
   "outputs": [
    {
     "name": "stdout",
     "output_type": "stream",
     "text": [
      "Fitting 3 folds for each of 1 candidates, totalling 3 fits\n"
     ]
    },
    {
     "name": "stderr",
     "output_type": "stream",
     "text": [
      "[Parallel(n_jobs=-1)]: Done   3 out of   3 | elapsed:    4.1s finished\n"
     ]
    },
    {
     "name": "stdout",
     "output_type": "stream",
     "text": [
      "done in 7.849s\n",
      "Best score: 0.680\n",
      "Best parameters set:\n"
     ]
    }
   ],
   "source": [
    "model1 = Pipeline([\n",
    "    ('1', TfidfVectorizer()),\n",
    "    ('3', SVC(kernel='linear', random_state=7, decision_function_shape='ovo', C=1.3))\n",
    "])\n",
    "parameters = {\n",
    "#     '1__max_df': (0.95, 0.94, 0.96), # 1\n",
    "#     '1__strip_accents' : ('ascii', 'unicode', None), # None\n",
    "#     '1__norm' : ('l1', 'l2', None), # l2\n",
    "#     '1__sublinear_tf' : (True, False), # False\n",
    "    \n",
    "#     '3__C': (0.8, 1.0, 1.1, 1.2, 1.3), # 1\n",
    "#     '3__degree': ( 1,2,3,4), # 3\n",
    "#     '3__tol': (1e-3,  1e-6, 1e-9), # 1e-3\n",
    "#     '3__class_weight': (None, 'balanced'), # None\n",
    "}\n",
    "\n",
    "doGridSearch(model1, parameters)"
   ]
  },
  {
   "cell_type": "code",
   "execution_count": 187,
   "metadata": {},
   "outputs": [
    {
     "name": "stdout",
     "output_type": "stream",
     "text": [
      "Fitting 3 folds for each of 1 candidates, totalling 3 fits\n",
      "done in 0.578s\n",
      "Best score: 0.675\n",
      "Best parameters set:\n"
     ]
    },
    {
     "name": "stderr",
     "output_type": "stream",
     "text": [
      "[Parallel(n_jobs=-1)]: Done   3 out of   3 | elapsed:    0.3s finished\n"
     ]
    }
   ],
   "source": [
    "model2 = Pipeline([\n",
    "    ('1', TfidfVectorizer(max_df=0.4)),\n",
    "    ('3', MultinomialNB(alpha=0.05))\n",
    "])\n",
    "parameters = {\n",
    "#     '1__max_df': (0.3, 0.35, 0.4, 0.45, 0.5, 0.6, 0.75, 1.0),\n",
    "    \n",
    "#     '3__alpha': (1.0e-10, 1.0e-5,0.025, 0.05, 0.075, 0.1,0.15, 0.5, 1),\n",
    "}\n",
    "\n",
    "doGridSearch(model2, parameters)"
   ]
  },
  {
   "cell_type": "code",
   "execution_count": 204,
   "metadata": {},
   "outputs": [
    {
     "name": "stdout",
     "output_type": "stream",
     "text": [
      "Fitting 3 folds for each of 1 candidates, totalling 3 fits\n"
     ]
    },
    {
     "name": "stderr",
     "output_type": "stream",
     "text": [
      "[Parallel(n_jobs=-1)]: Done   3 out of   3 | elapsed:    8.0s finished\n"
     ]
    },
    {
     "name": "stdout",
     "output_type": "stream",
     "text": [
      "done in 12.577s\n",
      "Best score: 0.647\n",
      "Best parameters set:\n"
     ]
    }
   ],
   "source": [
    "model3 = Pipeline([\n",
    "    ('1', TfidfVectorizer()),\n",
    "    ('3', RandomForestClassifier(random_state=7,n_jobs=-1, n_estimators=150))\n",
    "])\n",
    "parameters = {\n",
    "#     '1__max_df': (0.25, 0.5, 0.75, 1.0), # 1.0\n",
    "#     '1__use_idf': (True, False), # true\n",
    "#     '1__norm': ('l1', 'l2'), # l2\n",
    "    \n",
    "#     '3__n_estimators': (10, 100, 150, 200), # 10\n",
    "#     '3__criterion': ('gini', 'entropy'), # gini\n",
    "#     '3__class_weight': (None, 'balanced'), # None\n",
    "}\n",
    "\n",
    "doGridSearch(model3, parameters)"
   ]
  },
  {
   "cell_type": "code",
   "execution_count": 217,
   "metadata": {},
   "outputs": [
    {
     "name": "stdout",
     "output_type": "stream",
     "text": [
      "Fitting 3 folds for each of 1 candidates, totalling 3 fits\n"
     ]
    },
    {
     "name": "stderr",
     "output_type": "stream",
     "text": [
      "[Parallel(n_jobs=-1)]: Done   3 out of   3 | elapsed:    0.5s finished\n"
     ]
    },
    {
     "name": "stdout",
     "output_type": "stream",
     "text": [
      "done in 0.887s\n",
      "Best score: 0.675\n",
      "Best parameters set:\n"
     ]
    }
   ],
   "source": [
    "model4 = Pipeline([\n",
    "    ('1', TfidfVectorizer()),\n",
    "    ('3', LogisticRegression(random_state=7, class_weight='balanced', C=1.4,  max_iter=10))\n",
    "])\n",
    "parameters = {\n",
    "#     '1__max_df': (0.5, 0.75, 1.0),\n",
    "#     '1__strip_accents' : ('ascii', 'unicode', None), # None\n",
    "#     '1__norm' : ('l1', 'l2', None), # l2\n",
    "#     '1__sublinear_tf' : (True, False), # False\n",
    "    \n",
    "#     '3__class_weight': (None, 'balanced'), # None\n",
    "#     '3__C': (1.1, 1.2, 1.3, 1.35, 1.4, 1.45, 1.5), # 1\n",
    "#     '3__solver' : ('newton-cg', 'lbfgs', 'liblinear', 'sag', 'saga'), # liblinear\n",
    "#     '3__max_iter': (5, 10, 15), # 100\n",
    "    \n",
    "}\n",
    "\n",
    "doGridSearch(model4, parameters)"
   ]
  },
  {
   "cell_type": "code",
   "execution_count": 219,
   "metadata": {},
   "outputs": [
    {
     "name": "stdout",
     "output_type": "stream",
     "text": [
      "Accuracy: 0.960397897898\n"
     ]
    }
   ],
   "source": [
    "kfold = model_selection.KFold(n_splits=10, random_state=7)\n",
    "estimators = [\n",
    "    ('model1',model1),\n",
    "    ('model2',model2),\n",
    "    ('model3',model3),\n",
    "    ('model4',model4),\n",
    "]\n",
    "\n",
    "\n",
    "start = time.time()\n",
    "\n",
    "ensemble = VotingClassifier(estimators, voting='hard',n_jobs=-1)\n",
    "ensemble.fit(X, Y)\n",
    "print('Accuracy: ' + str(np.mean(Y == ensemble.predict(X))))\n",
    "# Accuracy: 0.960397897898"
   ]
  }
 ],
 "metadata": {
  "kernelspec": {
   "display_name": "Python 2",
   "language": "python",
   "name": "python2"
  },
  "language_info": {
   "codemirror_mode": {
    "name": "ipython",
    "version": 2
   },
   "file_extension": ".py",
   "mimetype": "text/x-python",
   "name": "python",
   "nbconvert_exporter": "python",
   "pygments_lexer": "ipython2",
   "version": "2.7.12"
  }
 },
 "nbformat": 4,
 "nbformat_minor": 2
}
